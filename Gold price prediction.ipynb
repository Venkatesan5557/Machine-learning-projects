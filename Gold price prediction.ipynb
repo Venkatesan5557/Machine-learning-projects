{
 "cells": [
  {
   "cell_type": "markdown",
   "metadata": {
    "id": "vGw8MdZQ2kVo"
   },
   "source": [
    "Import the dependencies"
   ]
  },
  {
   "cell_type": "code",
   "execution_count": 4,
   "metadata": {
    "id": "d59G0jmx2hhS"
   },
   "outputs": [],
   "source": [
    "import pandas as pd\n",
    "import numpy as np\n",
    "import matplotlib.pyplot as plt\n",
    "import seaborn as sns\n",
    "from sklearn.model_selection import train_test_split\n",
    "from sklearn.ensemble import RandomForestRegressor\n",
    "from sklearn import metrics"
   ]
  },
  {
   "cell_type": "code",
   "execution_count": 5,
   "metadata": {
    "id": "2k6fnIuK4tEO"
   },
   "outputs": [],
   "source": [
    "#loading the csv data a pandas DataFrame\n",
    "gold_data=pd.read_csv(\"C:/Users/Hai/OneDrive/Desktop/My Projects/dataset/gld_price_data.csv\")"
   ]
  },
  {
   "cell_type": "code",
   "execution_count": 6,
   "metadata": {
    "colab": {
     "base_uri": "https://localhost:8080/",
     "height": 202
    },
    "id": "CKr9GaTg6tZf",
    "outputId": "c32c9f06-747e-4f1b-d957-0fb64578f539"
   },
   "outputs": [
    {
     "data": {
      "text/html": [
       "<div>\n",
       "<style scoped>\n",
       "    .dataframe tbody tr th:only-of-type {\n",
       "        vertical-align: middle;\n",
       "    }\n",
       "\n",
       "    .dataframe tbody tr th {\n",
       "        vertical-align: top;\n",
       "    }\n",
       "\n",
       "    .dataframe thead th {\n",
       "        text-align: right;\n",
       "    }\n",
       "</style>\n",
       "<table border=\"1\" class=\"dataframe\">\n",
       "  <thead>\n",
       "    <tr style=\"text-align: right;\">\n",
       "      <th></th>\n",
       "      <th>Date</th>\n",
       "      <th>SPX</th>\n",
       "      <th>GLD</th>\n",
       "      <th>USO</th>\n",
       "      <th>SLV</th>\n",
       "      <th>EUR/USD</th>\n",
       "    </tr>\n",
       "  </thead>\n",
       "  <tbody>\n",
       "    <tr>\n",
       "      <th>0</th>\n",
       "      <td>1/2/2008</td>\n",
       "      <td>1447.160034</td>\n",
       "      <td>84.860001</td>\n",
       "      <td>78.470001</td>\n",
       "      <td>15.180</td>\n",
       "      <td>1.471692</td>\n",
       "    </tr>\n",
       "    <tr>\n",
       "      <th>1</th>\n",
       "      <td>1/3/2008</td>\n",
       "      <td>1447.160034</td>\n",
       "      <td>85.570000</td>\n",
       "      <td>78.370003</td>\n",
       "      <td>15.285</td>\n",
       "      <td>1.474491</td>\n",
       "    </tr>\n",
       "    <tr>\n",
       "      <th>2</th>\n",
       "      <td>1/4/2008</td>\n",
       "      <td>1411.630005</td>\n",
       "      <td>85.129997</td>\n",
       "      <td>77.309998</td>\n",
       "      <td>15.167</td>\n",
       "      <td>1.475492</td>\n",
       "    </tr>\n",
       "    <tr>\n",
       "      <th>3</th>\n",
       "      <td>1/7/2008</td>\n",
       "      <td>1416.180054</td>\n",
       "      <td>84.769997</td>\n",
       "      <td>75.500000</td>\n",
       "      <td>15.053</td>\n",
       "      <td>1.468299</td>\n",
       "    </tr>\n",
       "    <tr>\n",
       "      <th>4</th>\n",
       "      <td>1/8/2008</td>\n",
       "      <td>1390.189941</td>\n",
       "      <td>86.779999</td>\n",
       "      <td>76.059998</td>\n",
       "      <td>15.590</td>\n",
       "      <td>1.557099</td>\n",
       "    </tr>\n",
       "  </tbody>\n",
       "</table>\n",
       "</div>"
      ],
      "text/plain": [
       "       Date          SPX        GLD        USO     SLV   EUR/USD\n",
       "0  1/2/2008  1447.160034  84.860001  78.470001  15.180  1.471692\n",
       "1  1/3/2008  1447.160034  85.570000  78.370003  15.285  1.474491\n",
       "2  1/4/2008  1411.630005  85.129997  77.309998  15.167  1.475492\n",
       "3  1/7/2008  1416.180054  84.769997  75.500000  15.053  1.468299\n",
       "4  1/8/2008  1390.189941  86.779999  76.059998  15.590  1.557099"
      ]
     },
     "execution_count": 6,
     "metadata": {},
     "output_type": "execute_result"
    }
   ],
   "source": [
    "gold_data.head()"
   ]
  },
  {
   "cell_type": "code",
   "execution_count": 7,
   "metadata": {
    "colab": {
     "base_uri": "https://localhost:8080/",
     "height": 202
    },
    "id": "yzZCsPys4shX",
    "outputId": "2c4643b1-6ac0-4527-c9c1-71bf039f7fcc"
   },
   "outputs": [
    {
     "data": {
      "text/html": [
       "<div>\n",
       "<style scoped>\n",
       "    .dataframe tbody tr th:only-of-type {\n",
       "        vertical-align: middle;\n",
       "    }\n",
       "\n",
       "    .dataframe tbody tr th {\n",
       "        vertical-align: top;\n",
       "    }\n",
       "\n",
       "    .dataframe thead th {\n",
       "        text-align: right;\n",
       "    }\n",
       "</style>\n",
       "<table border=\"1\" class=\"dataframe\">\n",
       "  <thead>\n",
       "    <tr style=\"text-align: right;\">\n",
       "      <th></th>\n",
       "      <th>Date</th>\n",
       "      <th>SPX</th>\n",
       "      <th>GLD</th>\n",
       "      <th>USO</th>\n",
       "      <th>SLV</th>\n",
       "      <th>EUR/USD</th>\n",
       "    </tr>\n",
       "  </thead>\n",
       "  <tbody>\n",
       "    <tr>\n",
       "      <th>2285</th>\n",
       "      <td>5/8/2018</td>\n",
       "      <td>2671.919922</td>\n",
       "      <td>124.589996</td>\n",
       "      <td>14.0600</td>\n",
       "      <td>15.5100</td>\n",
       "      <td>1.186789</td>\n",
       "    </tr>\n",
       "    <tr>\n",
       "      <th>2286</th>\n",
       "      <td>5/9/2018</td>\n",
       "      <td>2697.790039</td>\n",
       "      <td>124.330002</td>\n",
       "      <td>14.3700</td>\n",
       "      <td>15.5300</td>\n",
       "      <td>1.184722</td>\n",
       "    </tr>\n",
       "    <tr>\n",
       "      <th>2287</th>\n",
       "      <td>5/10/2018</td>\n",
       "      <td>2723.070068</td>\n",
       "      <td>125.180000</td>\n",
       "      <td>14.4100</td>\n",
       "      <td>15.7400</td>\n",
       "      <td>1.191753</td>\n",
       "    </tr>\n",
       "    <tr>\n",
       "      <th>2288</th>\n",
       "      <td>5/14/2018</td>\n",
       "      <td>2730.129883</td>\n",
       "      <td>124.489998</td>\n",
       "      <td>14.3800</td>\n",
       "      <td>15.5600</td>\n",
       "      <td>1.193118</td>\n",
       "    </tr>\n",
       "    <tr>\n",
       "      <th>2289</th>\n",
       "      <td>5/16/2018</td>\n",
       "      <td>2725.780029</td>\n",
       "      <td>122.543800</td>\n",
       "      <td>14.4058</td>\n",
       "      <td>15.4542</td>\n",
       "      <td>1.182033</td>\n",
       "    </tr>\n",
       "  </tbody>\n",
       "</table>\n",
       "</div>"
      ],
      "text/plain": [
       "           Date          SPX         GLD      USO      SLV   EUR/USD\n",
       "2285   5/8/2018  2671.919922  124.589996  14.0600  15.5100  1.186789\n",
       "2286   5/9/2018  2697.790039  124.330002  14.3700  15.5300  1.184722\n",
       "2287  5/10/2018  2723.070068  125.180000  14.4100  15.7400  1.191753\n",
       "2288  5/14/2018  2730.129883  124.489998  14.3800  15.5600  1.193118\n",
       "2289  5/16/2018  2725.780029  122.543800  14.4058  15.4542  1.182033"
      ]
     },
     "execution_count": 7,
     "metadata": {},
     "output_type": "execute_result"
    }
   ],
   "source": [
    "gold_data.tail()"
   ]
  },
  {
   "cell_type": "code",
   "execution_count": 8,
   "metadata": {
    "colab": {
     "base_uri": "https://localhost:8080/"
    },
    "id": "pW3KCRTT5dID",
    "outputId": "be760ac5-5eaf-4ee5-8bee-b1eb19c54378"
   },
   "outputs": [
    {
     "data": {
      "text/plain": [
       "(2290, 6)"
      ]
     },
     "execution_count": 8,
     "metadata": {},
     "output_type": "execute_result"
    }
   ],
   "source": [
    "gold_data.shape"
   ]
  },
  {
   "cell_type": "code",
   "execution_count": 9,
   "metadata": {
    "colab": {
     "base_uri": "https://localhost:8080/"
    },
    "id": "TiwpGrFw66Rj",
    "outputId": "8781c5e9-5bb9-40d4-d703-b0d7258e6591"
   },
   "outputs": [
    {
     "name": "stdout",
     "output_type": "stream",
     "text": [
      "<class 'pandas.core.frame.DataFrame'>\n",
      "RangeIndex: 2290 entries, 0 to 2289\n",
      "Data columns (total 6 columns):\n",
      " #   Column   Non-Null Count  Dtype  \n",
      "---  ------   --------------  -----  \n",
      " 0   Date     2290 non-null   object \n",
      " 1   SPX      2290 non-null   float64\n",
      " 2   GLD      2290 non-null   float64\n",
      " 3   USO      2290 non-null   float64\n",
      " 4   SLV      2290 non-null   float64\n",
      " 5   EUR/USD  2290 non-null   float64\n",
      "dtypes: float64(5), object(1)\n",
      "memory usage: 107.5+ KB\n"
     ]
    }
   ],
   "source": [
    "#some basic information about data\n",
    "gold_data.info()"
   ]
  },
  {
   "cell_type": "code",
   "execution_count": 10,
   "metadata": {
    "colab": {
     "base_uri": "https://localhost:8080/"
    },
    "id": "_GYnrJBn7FYi",
    "outputId": "8eba04d6-8041-4901-d3e9-f182566329c0"
   },
   "outputs": [
    {
     "data": {
      "text/plain": [
       "Date       0\n",
       "SPX        0\n",
       "GLD        0\n",
       "USO        0\n",
       "SLV        0\n",
       "EUR/USD    0\n",
       "dtype: int64"
      ]
     },
     "execution_count": 10,
     "metadata": {},
     "output_type": "execute_result"
    }
   ],
   "source": [
    "#checking no of missing values\n",
    "gold_data.isnull().sum()"
   ]
  },
  {
   "cell_type": "code",
   "execution_count": 11,
   "metadata": {
    "colab": {
     "base_uri": "https://localhost:8080/",
     "height": 294
    },
    "id": "1Js_KgHW7Rs3",
    "outputId": "19d0fd02-105a-442c-b15c-341c37153a3b"
   },
   "outputs": [
    {
     "data": {
      "text/html": [
       "<div>\n",
       "<style scoped>\n",
       "    .dataframe tbody tr th:only-of-type {\n",
       "        vertical-align: middle;\n",
       "    }\n",
       "\n",
       "    .dataframe tbody tr th {\n",
       "        vertical-align: top;\n",
       "    }\n",
       "\n",
       "    .dataframe thead th {\n",
       "        text-align: right;\n",
       "    }\n",
       "</style>\n",
       "<table border=\"1\" class=\"dataframe\">\n",
       "  <thead>\n",
       "    <tr style=\"text-align: right;\">\n",
       "      <th></th>\n",
       "      <th>SPX</th>\n",
       "      <th>GLD</th>\n",
       "      <th>USO</th>\n",
       "      <th>SLV</th>\n",
       "      <th>EUR/USD</th>\n",
       "    </tr>\n",
       "  </thead>\n",
       "  <tbody>\n",
       "    <tr>\n",
       "      <th>count</th>\n",
       "      <td>2290.000000</td>\n",
       "      <td>2290.000000</td>\n",
       "      <td>2290.000000</td>\n",
       "      <td>2290.000000</td>\n",
       "      <td>2290.000000</td>\n",
       "    </tr>\n",
       "    <tr>\n",
       "      <th>mean</th>\n",
       "      <td>1654.315776</td>\n",
       "      <td>122.732875</td>\n",
       "      <td>31.842221</td>\n",
       "      <td>20.084997</td>\n",
       "      <td>1.283653</td>\n",
       "    </tr>\n",
       "    <tr>\n",
       "      <th>std</th>\n",
       "      <td>519.111540</td>\n",
       "      <td>23.283346</td>\n",
       "      <td>19.523517</td>\n",
       "      <td>7.092566</td>\n",
       "      <td>0.131547</td>\n",
       "    </tr>\n",
       "    <tr>\n",
       "      <th>min</th>\n",
       "      <td>676.530029</td>\n",
       "      <td>70.000000</td>\n",
       "      <td>7.960000</td>\n",
       "      <td>8.850000</td>\n",
       "      <td>1.039047</td>\n",
       "    </tr>\n",
       "    <tr>\n",
       "      <th>25%</th>\n",
       "      <td>1239.874969</td>\n",
       "      <td>109.725000</td>\n",
       "      <td>14.380000</td>\n",
       "      <td>15.570000</td>\n",
       "      <td>1.171313</td>\n",
       "    </tr>\n",
       "    <tr>\n",
       "      <th>50%</th>\n",
       "      <td>1551.434998</td>\n",
       "      <td>120.580002</td>\n",
       "      <td>33.869999</td>\n",
       "      <td>17.268500</td>\n",
       "      <td>1.303297</td>\n",
       "    </tr>\n",
       "    <tr>\n",
       "      <th>75%</th>\n",
       "      <td>2073.010070</td>\n",
       "      <td>132.840004</td>\n",
       "      <td>37.827501</td>\n",
       "      <td>22.882499</td>\n",
       "      <td>1.369971</td>\n",
       "    </tr>\n",
       "    <tr>\n",
       "      <th>max</th>\n",
       "      <td>2872.870117</td>\n",
       "      <td>184.589996</td>\n",
       "      <td>117.480003</td>\n",
       "      <td>47.259998</td>\n",
       "      <td>1.598798</td>\n",
       "    </tr>\n",
       "  </tbody>\n",
       "</table>\n",
       "</div>"
      ],
      "text/plain": [
       "               SPX          GLD          USO          SLV      EUR/USD\n",
       "count  2290.000000  2290.000000  2290.000000  2290.000000  2290.000000\n",
       "mean   1654.315776   122.732875    31.842221    20.084997     1.283653\n",
       "std     519.111540    23.283346    19.523517     7.092566     0.131547\n",
       "min     676.530029    70.000000     7.960000     8.850000     1.039047\n",
       "25%    1239.874969   109.725000    14.380000    15.570000     1.171313\n",
       "50%    1551.434998   120.580002    33.869999    17.268500     1.303297\n",
       "75%    2073.010070   132.840004    37.827501    22.882499     1.369971\n",
       "max    2872.870117   184.589996   117.480003    47.259998     1.598798"
      ]
     },
     "execution_count": 11,
     "metadata": {},
     "output_type": "execute_result"
    }
   ],
   "source": [
    "#getting statistical measures of the data\n",
    "gold_data.describe()"
   ]
  },
  {
   "cell_type": "markdown",
   "metadata": {
    "id": "rwsnm3Fi7sdj"
   },
   "source": [
    "Correlation:\n",
    "     1. Positive correlation\n",
    "     2. Negative correlation"
   ]
  },
  {
   "cell_type": "code",
   "execution_count": 12,
   "metadata": {
    "id": "M1SZjBf479RL"
   },
   "outputs": [],
   "source": [
    "correlation=gold_data.corr()"
   ]
  },
  {
   "cell_type": "code",
   "execution_count": 13,
   "metadata": {
    "colab": {
     "base_uri": "https://localhost:8080/",
     "height": 487
    },
    "id": "d9edKdj279OG",
    "outputId": "a3d9822f-804a-40b7-9963-1624bbfc4011"
   },
   "outputs": [
    {
     "data": {
      "text/plain": [
       "<AxesSubplot:>"
      ]
     },
     "execution_count": 13,
     "metadata": {},
     "output_type": "execute_result"
    },
    {
     "data": {
      "image/png": "[encoded data removed]",
      "text/plain": [
       "<Figure size 576x576 with 2 Axes>"
      ]
     },
     "metadata": {
      "needs_background": "light"
     },
     "output_type": "display_data"
    }
   ],
   "source": [
    "#constructing heatmap to understand correlation value\n",
    "plt.figure(figsize=(8,8))\n",
    "sns.heatmap(correlation,cbar=True ,square=True, fmt=' .1f',annot=True, annot_kws={'size':8},cmap='Blues')"
   ]
  },
  {
   "cell_type": "code",
   "execution_count": 14,
   "metadata": {
    "colab": {
     "base_uri": "https://localhost:8080/"
    },
    "id": "fwT0fJMQ7chd",
    "outputId": "af6486d2-4f0f-458e-b5d6-2cfda5a01eba"
   },
   "outputs": [
    {
     "data": {
      "text/plain": [
       "SPX        0.049345\n",
       "GLD        1.000000\n",
       "USO       -0.186360\n",
       "SLV        0.866632\n",
       "EUR/USD   -0.024375\n",
       "Name: GLD, dtype: float64"
      ]
     },
     "execution_count": 14,
     "metadata": {},
     "output_type": "execute_result"
    }
   ],
   "source": [
    "#correlation values of GLD\n",
    "correlation['GLD']"
   ]
  },
  {
   "cell_type": "code",
   "execution_count": 15,
   "metadata": {
    "colab": {
     "base_uri": "https://localhost:8080/",
     "height": 386
    },
    "id": "KEtj3-Gr78Hx",
    "outputId": "32c0464f-2800-48b4-b4fb-267623566e13"
   },
   "outputs": [
    {
     "data": {
      "text/plain": [
       "<seaborn.axisgrid.FacetGrid at 0x265cc6ee20>"
      ]
     },
     "execution_count": 15,
     "metadata": {},
     "output_type": "execute_result"
    },
    {
     "data": {
      "image/png": "[encoded data removed]",
      "text/plain": [
       "<Figure size 360x360 with 1 Axes>"
      ]
     },
     "metadata": {
      "needs_background": "light"
     },
     "output_type": "display_data"
    }
   ],
   "source": [
    "#checking the disbribution of the GLD price\n",
    "sns.displot(gold_data['GLD'],color='red')"
   ]
  },
  {
   "cell_type": "markdown",
   "metadata": {
    "id": "HjCopQrpAkhq"
   },
   "source": [
    "Spliting the features and target"
   ]
  },
  {
   "cell_type": "code",
   "execution_count": 16,
   "metadata": {
    "id": "yFc5n4A5AJlH"
   },
   "outputs": [],
   "source": [
    "x=gold_data.drop(['Date','GLD'],axis=1)\n",
    "y=gold_data['GLD']"
   ]
  },
  {
   "cell_type": "code",
   "execution_count": 17,
   "metadata": {
    "colab": {
     "base_uri": "https://localhost:8080/"
    },
    "id": "bCnaZgBSA4bw",
    "outputId": "a6ca76b3-4903-4d99-daa3-1979a3676a47"
   },
   "outputs": [
    {
     "name": "stdout",
     "output_type": "stream",
     "text": [
      "              SPX        USO      SLV   EUR/USD\n",
      "0     1447.160034  78.470001  15.1800  1.471692\n",
      "1     1447.160034  78.370003  15.2850  1.474491\n",
      "2     1411.630005  77.309998  15.1670  1.475492\n",
      "3     1416.180054  75.500000  15.0530  1.468299\n",
      "4     1390.189941  76.059998  15.5900  1.557099\n",
      "...           ...        ...      ...       ...\n",
      "2285  2671.919922  14.060000  15.5100  1.186789\n",
      "2286  2697.790039  14.370000  15.5300  1.184722\n",
      "2287  2723.070068  14.410000  15.7400  1.191753\n",
      "2288  2730.129883  14.380000  15.5600  1.193118\n",
      "2289  2725.780029  14.405800  15.4542  1.182033\n",
      "\n",
      "[2290 rows x 4 columns]\n",
      "0        84.860001\n",
      "1        85.570000\n",
      "2        85.129997\n",
      "3        84.769997\n",
      "4        86.779999\n",
      "           ...    \n",
      "2285    124.589996\n",
      "2286    124.330002\n",
      "2287    125.180000\n",
      "2288    124.489998\n",
      "2289    122.543800\n",
      "Name: GLD, Length: 2290, dtype: float64\n"
     ]
    }
   ],
   "source": [
    "print(x)\n",
    "print(y)"
   ]
  },
  {
   "cell_type": "markdown",
   "metadata": {
    "id": "Et8OoXpiBVsZ"
   },
   "source": [
    "Spliting the data into training and testing data"
   ]
  },
  {
   "cell_type": "code",
   "execution_count": 18,
   "metadata": {
    "id": "YnCNMxDgA9bv"
   },
   "outputs": [],
   "source": [
    "x_train,x_test,y_train,y_test=train_test_split(x,y,test_size=0.2,random_state=2)         "
   ]
  },
  {
   "cell_type": "markdown",
   "metadata": {
    "id": "wg05pvfTRs-V"
   },
   "source": [
    "Model Training\n",
    "Random forest regressor"
   ]
  },
  {
   "cell_type": "code",
   "execution_count": 19,
   "metadata": {
    "id": "1V-7l2_sBpM4"
   },
   "outputs": [],
   "source": [
    "regressor=RandomForestRegressor(n_estimators=100)"
   ]
  },
  {
   "cell_type": "code",
   "execution_count": 20,
   "metadata": {
    "colab": {
     "base_uri": "https://localhost:8080/"
    },
    "id": "YP7EeTLwBpJa",
    "outputId": "8030cfdc-8fc3-4dc2-b46e-a9dbe34281ac"
   },
   "outputs": [
    {
     "data": {
      "text/plain": [
       "RandomForestRegressor()"
      ]
     },
     "execution_count": 20,
     "metadata": {},
     "output_type": "execute_result"
    }
   ],
   "source": [
    "#train the model\n",
    "regressor.fit(x_train,y_train)"
   ]
  },
  {
   "cell_type": "code",
   "execution_count": 21,
   "metadata": {
    "colab": {
     "base_uri": "https://localhost:8080/"
    },
    "id": "68vw6gJ6BpFZ",
    "outputId": "a1d8bb43-a9fb-4583-e8d8-da487d11d028"
   },
   "outputs": [
    {
     "data": {
      "text/plain": [
       "array([168.59379934,  81.95759981, 115.93810074, 127.57340087,\n",
       "       120.67810146, 154.58489763, 150.30099875, 125.93190037,\n",
       "       117.44979853, 126.12510072, 116.4151009 , 172.03860076,\n",
       "       141.21269814, 167.90759859, 115.0711003 , 117.75640023,\n",
       "       139.07230284, 169.92080041, 159.83520268, 157.9811995 ,\n",
       "       155.17230051, 125.114001  , 175.4760995 , 156.76810367,\n",
       "       125.15730042,  93.70719968,  77.88130024, 120.55350028,\n",
       "       119.02519929, 167.57719876,  88.08830056, 124.99030013,\n",
       "        91.0306005 , 117.70370043, 121.20599889, 135.94050099,\n",
       "       115.57300088, 115.01780072, 148.49259963, 107.29850121,\n",
       "       104.76430258,  87.1085978 , 126.48190051, 118.11989992,\n",
       "       153.21509922, 119.53700023, 108.22740003, 108.01909835,\n",
       "        93.26500056, 127.03409804,  74.6768006 , 113.65109922,\n",
       "       120.92600027, 111.17499921, 118.93919903, 120.54519926,\n",
       "       157.1270008 , 167.55220092, 146.91389659,  86.04349892,\n",
       "        94.32620026,  86.94739873,  90.50380001, 118.97240073,\n",
       "       126.39790102, 127.6247002 , 169.71879955, 122.37909935,\n",
       "       117.32899907,  98.69490038, 167.4399016 , 143.08389915,\n",
       "       132.17030213, 121.13900217, 121.07479933, 119.66750088,\n",
       "       114.41690178, 118.14980047, 107.1844011 , 127.90760086,\n",
       "       113.78889949, 107.31689975, 116.94130048, 119.59719864,\n",
       "        88.81140055,  88.21389874, 145.98740278, 127.33150021,\n",
       "       113.35319998, 109.57359837, 108.07289916,  77.42079897,\n",
       "       169.42470198, 114.00529912, 121.64599903, 127.75860156,\n",
       "       154.86209832,  91.9755994 , 136.19890133, 158.55350287,\n",
       "       125.23910034, 125.26810067, 130.63010218, 114.98010108,\n",
       "       119.8893    ,  92.13010003, 110.2248989 , 167.49139938,\n",
       "       157.53819867, 114.17099933, 106.68170137,  79.52489954,\n",
       "       113.37100047, 125.85060067, 107.07279944, 119.35390062,\n",
       "       155.64890349, 159.62729836, 119.98799989, 135.0042025 ,\n",
       "       101.22799994, 117.50539807, 119.27510022, 113.03990086,\n",
       "       102.78839928, 160.00599729,  98.76880051, 146.33659964,\n",
       "       125.49650078, 169.47249926, 125.67829851, 127.34479761,\n",
       "       127.45680149, 113.91609906, 113.26710079, 123.76939904,\n",
       "       102.24369895,  89.0130004 , 124.41889957, 101.48259943,\n",
       "       107.07939916, 112.99600062, 117.41600058,  99.19379977,\n",
       "       121.5297002 , 163.0131992 ,  87.35689864, 106.8518998 ,\n",
       "       117.12940088, 127.72940126, 124.04520064,  80.62499925,\n",
       "       120.31780092, 158.10769756,  87.96949998, 110.1472995 ,\n",
       "       118.8662992 , 172.92589865, 102.94359929, 105.46430058,\n",
       "       122.68650044, 158.79489756,  87.89689826,  92.98960035,\n",
       "       112.90630033, 178.12969899, 114.23819993, 119.30710013,\n",
       "        94.61030121, 125.68930049, 166.04620114, 114.82170093,\n",
       "       116.7096014 ,  88.21929864, 148.74540065, 120.45259952,\n",
       "        89.31269966, 112.5788002 , 117.39350035, 118.77950137,\n",
       "        88.18609934,  94.09790038, 117.18099999, 118.44270186,\n",
       "       120.3088004 , 126.75999798, 121.89759996, 151.28590012,\n",
       "       165.03290052, 118.60129975, 120.16160107, 151.52020049,\n",
       "       118.34669883, 172.62769889, 105.46799935, 105.05690115,\n",
       "       149.25530056, 113.70980071, 124.89030082, 147.45180041,\n",
       "       119.65200157, 115.27390068, 112.71840012, 113.44050202,\n",
       "       140.84110159, 117.7333977 , 102.96270029, 115.91080108,\n",
       "       103.77620193,  98.90910041, 117.30090096,  90.6654999 ,\n",
       "        91.67390051, 153.38749929, 102.66629984, 154.88020089,\n",
       "       114.41050149, 138.06170123,  90.15579822, 115.53919936,\n",
       "       114.30389964, 122.89540023, 121.74990056, 165.34750161,\n",
       "        92.84129942, 135.70890163, 121.48739895, 120.50780077,\n",
       "       104.79270027, 142.43250328, 121.74899927, 116.70760048,\n",
       "       113.31460058, 127.11849725, 122.52809937, 125.7312993 ,\n",
       "       121.28580035,  86.86129905, 132.37600169, 145.13750227,\n",
       "        92.68909975, 157.97899942, 158.5258024 , 126.39949925,\n",
       "       164.36309967, 109.07419969, 109.53710076, 103.70869839,\n",
       "        94.29110078, 127.50290271, 107.11770054, 162.5807    ,\n",
       "       121.54879998, 131.97579945, 130.71260185, 159.86720045,\n",
       "        90.07099818, 176.07830176, 127.82650048, 126.64129859,\n",
       "        86.38209965, 124.53819916, 150.02729731,  89.58450012,\n",
       "       107.07119982, 108.83919962,  84.24939886, 135.97500009,\n",
       "       155.2880023 , 138.34010393,  73.97420048, 152.60730104,\n",
       "       125.86080009, 126.80300027, 127.48729849, 108.54709949,\n",
       "       156.59020104, 114.6300009 , 116.8445013 , 125.23869919,\n",
       "       154.11410122, 121.2545001 , 156.42929903,  93.02830051,\n",
       "       125.51640143, 125.74870039,  87.95890094,  92.10629913,\n",
       "       126.32799962, 128.50840355, 113.20270031, 117.59359722,\n",
       "       120.56340059, 127.12299771, 119.39440096, 136.71540114,\n",
       "        94.02479969, 119.59850039, 113.058201  ,  94.35729981,\n",
       "       108.6929997 ,  87.04329928, 109.46439964,  89.54729982,\n",
       "        92.42360008, 131.51480302, 162.17260094,  89.5002999 ,\n",
       "       119.67690053, 133.35660189, 123.86390022, 128.30360228,\n",
       "       101.96349845,  89.25589834, 131.70780016, 119.42330016,\n",
       "       108.65549994, 167.22710038, 115.25830037,  86.53619878,\n",
       "       118.66010056,  91.13499972, 162.04259939, 116.4438006 ,\n",
       "       121.41320033, 160.33209762, 120.01539941, 112.76989938,\n",
       "       108.50199892, 126.85839983,  76.13050028, 103.04589999,\n",
       "       127.22970283, 121.78169951,  92.56929992, 132.15109961,\n",
       "       118.14690125, 116.11869936, 154.47530265, 159.89040066,\n",
       "       110.03509941, 153.96049694, 119.23790086, 160.35950104,\n",
       "       118.4597001 , 156.81589943, 115.1547992 , 116.44170031,\n",
       "       149.45659887, 114.6792008 , 125.90019886, 165.75169891,\n",
       "       117.59739999, 125.06739957, 153.23880313, 153.50160291,\n",
       "       131.99100083, 114.89980026, 121.24380225, 124.63010069,\n",
       "        89.59350037, 123.23719994, 155.30410216, 111.64360005,\n",
       "       106.7412    , 161.8973009 , 118.55960013, 165.79630004,\n",
       "       134.03880101, 114.84449948, 153.11959958, 168.84270051,\n",
       "       114.63650017, 114.06770119, 159.3634992 ,  85.22389946,\n",
       "       127.12380022, 127.96410069, 128.86700072, 124.3986009 ,\n",
       "       123.83990083,  90.54400101, 153.04530045,  97.17079974,\n",
       "       136.74470019,  89.01639899, 107.11919978, 115.13210041,\n",
       "       112.662101  , 124.12109947,  91.38749863, 125.40730118,\n",
       "       162.35139812, 119.81039889, 165.37370069, 126.7892978 ,\n",
       "       112.31379999, 127.60229992,  94.76109954,  90.95810009,\n",
       "       103.20909903, 120.78500026,  83.39909947, 126.29110014,\n",
       "       160.65270469, 117.2033007 , 118.26639975, 119.8196997 ,\n",
       "       122.68149965, 120.1475013 , 121.46410017, 118.08250043,\n",
       "       107.21809983, 148.15469978, 126.30719854, 115.77190042,\n",
       "        73.88840011, 127.85910089, 154.0855004 , 122.55139986,\n",
       "       125.60940049,  88.69760011, 103.21509859, 124.77110064,\n",
       "       120.26700057,  73.30770057, 151.69550078, 120.89890058,\n",
       "       104.79399991,  86.23489824, 115.26639947, 172.23329833,\n",
       "       119.87160058, 159.69559784, 113.29969957, 121.45659996,\n",
       "       118.67610114,  95.90089982, 118.84449988, 125.77190033,\n",
       "       118.50929981,  96.03030082, 153.98150185, 121.99690022,\n",
       "       147.80310013, 159.18060184, 113.85490011, 122.39659943,\n",
       "       149.13319801, 127.02510053, 165.7870003 , 135.63209992,\n",
       "       120.16979969, 167.94059868, 108.31499938, 121.70839882,\n",
       "       138.64490101, 106.073899  ])"
      ]
     },
     "execution_count": 21,
     "metadata": {},
     "output_type": "execute_result"
    }
   ],
   "source": [
    "#prediction on test data\n",
    "test_data_prediction=regressor.predict(x_test)\n",
    "test_data_prediction"
   ]
  },
  {
   "cell_type": "code",
   "execution_count": 22,
   "metadata": {
    "colab": {
     "base_uri": "https://localhost:8080/"
    },
    "id": "JKjscy7mBpBu",
    "outputId": "d7f17c50-19e6-4f0d-cd66-091dc200eb58"
   },
   "outputs": [
    {
     "name": "stdout",
     "output_type": "stream",
     "text": [
      "R squared error : 0.9889652614957275\n"
     ]
    }
   ],
   "source": [
    "#R square error\n",
    "error_score=metrics.r2_score(y_test,test_data_prediction)\n",
    "print('R squared error :',error_score )"
   ]
  },
  {
   "cell_type": "markdown",
   "metadata": {
    "id": "joYJfsj6Tjw_"
   },
   "source": [
    "Compare actual and predicted value by plotting"
   ]
  },
  {
   "cell_type": "code",
   "execution_count": 23,
   "metadata": {
    "id": "Ml9J74qkBo5S"
   },
   "outputs": [],
   "source": [
    "y_test=list(y_test)"
   ]
  },
  {
   "cell_type": "code",
   "execution_count": 24,
   "metadata": {
    "colab": {
     "base_uri": "https://localhost:8080/",
     "height": 294
    },
    "id": "WRYfOOY3BouG",
    "outputId": "1489636f-ff23-433f-8fc8-d37bab3143b1"
   },
   "outputs": [
    {
     "data": {
      "image/png": "[encoded data removed]",
      "text/plain": [
       "<Figure size 432x288 with 1 Axes>"
      ]
     },
     "metadata": {
      "needs_background": "light"
     },
     "output_type": "display_data"
    }
   ],
   "source": [
    "plt.plot(y_test,color='blue',label='Actual Value')\n",
    "plt.plot(test_data_prediction,color='green',label='Predicted Value')\n",
    "plt.title('Actual value vs Predicted Value')\n",
    "plt.xlabel('Number of Values')\n",
    "plt.ylabel('GLD price')\n",
    "plt.legend()\n",
    "plt.show()"
   ]
  },
  {
   "cell_type": "code",
   "execution_count": 28,
   "metadata": {
    "id": "8oh9QLmyVrCl"
   },
   "outputs": [
    {
     "name": "stdout",
     "output_type": "stream",
     "text": [
      "[86.38209965]\n"
     ]
    }
   ],
   "source": [
    "input_data=(1390.189941,76.059998,15.590,1.557099)\n",
    "input_data_as_numpy_array=np.asarray(input_data)\n",
    "input_data_reshaped=input_data_as_numpy_array.reshape(1,-1)\n",
    "Prediction=regressor.predict(input_data_reshaped)\n",
    "print(Prediction)"
   ]
  },
  {
   "cell_type": "code",
   "execution_count": 25,
   "metadata": {},
   "outputs": [
    {
     "data": {
      "text/html": [
       "<div>\n",
       "<style scoped>\n",
       "    .dataframe tbody tr th:only-of-type {\n",
       "        vertical-align: middle;\n",
       "    }\n",
       "\n",
       "    .dataframe tbody tr th {\n",
       "        vertical-align: top;\n",
       "    }\n",
       "\n",
       "    .dataframe thead th {\n",
       "        text-align: right;\n",
       "    }\n",
       "</style>\n",
       "<table border=\"1\" class=\"dataframe\">\n",
       "  <thead>\n",
       "    <tr style=\"text-align: right;\">\n",
       "      <th></th>\n",
       "      <th>Date</th>\n",
       "      <th>SPX</th>\n",
       "      <th>GLD</th>\n",
       "      <th>USO</th>\n",
       "      <th>SLV</th>\n",
       "      <th>EUR/USD</th>\n",
       "    </tr>\n",
       "  </thead>\n",
       "  <tbody>\n",
       "    <tr>\n",
       "      <th>0</th>\n",
       "      <td>1/2/2008</td>\n",
       "      <td>1447.160034</td>\n",
       "      <td>84.860001</td>\n",
       "      <td>78.470001</td>\n",
       "      <td>15.180</td>\n",
       "      <td>1.471692</td>\n",
       "    </tr>\n",
       "    <tr>\n",
       "      <th>1</th>\n",
       "      <td>1/3/2008</td>\n",
       "      <td>1447.160034</td>\n",
       "      <td>85.570000</td>\n",
       "      <td>78.370003</td>\n",
       "      <td>15.285</td>\n",
       "      <td>1.474491</td>\n",
       "    </tr>\n",
       "    <tr>\n",
       "      <th>2</th>\n",
       "      <td>1/4/2008</td>\n",
       "      <td>1411.630005</td>\n",
       "      <td>85.129997</td>\n",
       "      <td>77.309998</td>\n",
       "      <td>15.167</td>\n",
       "      <td>1.475492</td>\n",
       "    </tr>\n",
       "    <tr>\n",
       "      <th>3</th>\n",
       "      <td>1/7/2008</td>\n",
       "      <td>1416.180054</td>\n",
       "      <td>84.769997</td>\n",
       "      <td>75.500000</td>\n",
       "      <td>15.053</td>\n",
       "      <td>1.468299</td>\n",
       "    </tr>\n",
       "    <tr>\n",
       "      <th>4</th>\n",
       "      <td>1/8/2008</td>\n",
       "      <td>1390.189941</td>\n",
       "      <td>86.779999</td>\n",
       "      <td>76.059998</td>\n",
       "      <td>15.590</td>\n",
       "      <td>1.557099</td>\n",
       "    </tr>\n",
       "  </tbody>\n",
       "</table>\n",
       "</div>"
      ],
      "text/plain": [
       "       Date          SPX        GLD        USO     SLV   EUR/USD\n",
       "0  1/2/2008  1447.160034  84.860001  78.470001  15.180  1.471692\n",
       "1  1/3/2008  1447.160034  85.570000  78.370003  15.285  1.474491\n",
       "2  1/4/2008  1411.630005  85.129997  77.309998  15.167  1.475492\n",
       "3  1/7/2008  1416.180054  84.769997  75.500000  15.053  1.468299\n",
       "4  1/8/2008  1390.189941  86.779999  76.059998  15.590  1.557099"
      ]
     },
     "execution_count": 25,
     "metadata": {},
     "output_type": "execute_result"
    }
   ],
   "source": [
    "gold_data.head()"
   ]
  },
  {
   "cell_type": "code",
   "execution_count": null,
   "metadata": {},
   "outputs": [],
   "source": []
  }
 ],
 "metadata": {
  "colab": {
   "collapsed_sections": [],
   "name": "gold price.ipynb",
   "provenance": []
  },
  "kernelspec": {
   "display_name": "Python 3",
   "language": "python",
   "name": "python3"
  },
  "language_info": {
   "codemirror_mode": {
    "name": "ipython",
    "version": 3
   },
   "file_extension": ".py",
   "mimetype": "text/x-python",
   "name": "python",
   "nbconvert_exporter": "python",
   "pygments_lexer": "ipython3",
   "version": "3.8.8"
  }
 },
 "nbformat": 4,
 "nbformat_minor": 1
}
